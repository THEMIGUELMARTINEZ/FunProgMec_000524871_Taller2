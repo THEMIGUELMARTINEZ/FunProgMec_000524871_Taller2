{
  "nbformat": 4,
  "nbformat_minor": 0,
  "metadata": {
    "colab": {
      "provenance": [],
      "authorship_tag": "ABX9TyMg1jidXg9IQdetCtdekd/g",
      "include_colab_link": true
    },
    "kernelspec": {
      "name": "python3",
      "display_name": "Python 3"
    },
    "language_info": {
      "name": "python"
    }
  },
  "cells": [
    {
      "cell_type": "markdown",
      "metadata": {
        "id": "view-in-github",
        "colab_type": "text"
      },
      "source": [
        "<a href=\"https://colab.research.google.com/github/THEMIGUELMARTINEZ/FunProgMec_000524871_Taller2/blob/main/Solucion_taller2.ipynb\" target=\"_parent\"><img src=\"https://colab.research.google.com/assets/colab-badge.svg\" alt=\"Open In Colab\"/></a>"
      ]
    },
    {
      "cell_type": "markdown",
      "source": [
        "## Taller 2 \n",
        "## Fundamentos de programacion - ingeniería mecánica 202310\n",
        "\n",
        "> Estudiantes: Miguel martinez\n",
        "\n",
        "> ID: 000391831\n",
        "\n",
        "> Email: miguels.martinez@upb.edu.co"
      ],
      "metadata": {
        "id": "cUA-Fxeyt3S_"
      }
    },
    {
      "cell_type": "code",
      "source": [
        "# posicion de la particula en un tiempo: \n",
        "t_1 = 0\n",
        "# posicion de la particula en un tiempo:\n",
        "t_2 = 5 \n",
        "x_0 = 3\n",
        "v_0 = 5 \n",
        "a = 6\n",
        "c = 1/2\n",
        "x_1 = v_0 + v_0*t_1 + c*a*t_1**2\n",
        "x_2 = v_0 + v_0*t_2 + c*a*t_2**2\n",
        "print(x_1)\n",
        "print(x_2)"
      ],
      "metadata": {
        "colab": {
          "base_uri": "https://localhost:8080/"
        },
        "id": "gmXSSfrE0NAU",
        "outputId": "3f4ba05d-0448-4445-aeb9-e140d906587d"
      },
      "execution_count": 36,
      "outputs": [
        {
          "output_type": "stream",
          "name": "stdout",
          "text": [
            "5.0\n",
            "105.0\n"
          ]
        }
      ]
    },
    {
      "cell_type": "code",
      "source": [
        "C = 3 \n",
        "B = 2 \n",
        "C != B\n",
        "print(C != B)\n"
      ],
      "metadata": {
        "colab": {
          "base_uri": "https://localhost:8080/"
        },
        "id": "EcWn0nT94M0i",
        "outputId": "f9185014-3419-47b4-c5b7-fda82ac8a919"
      },
      "execution_count": 43,
      "outputs": [
        {
          "output_type": "stream",
          "name": "stdout",
          "text": [
            "True\n"
          ]
        }
      ]
    },
    {
      "cell_type": "code",
      "source": [
        "D = -2\n",
        "C = 3 \n",
        "A = 5 \n",
        "B = 2\n",
        "D - C >= - A * B\n",
        "print( D - C >= - A * B)\n"
      ],
      "metadata": {
        "colab": {
          "base_uri": "https://localhost:8080/"
        },
        "id": "FoDv9cov47zg",
        "outputId": "2e8db150-4bcc-410a-9e3b-ca439edf2eba"
      },
      "execution_count": 44,
      "outputs": [
        {
          "output_type": "stream",
          "name": "stdout",
          "text": [
            "True\n"
          ]
        }
      ]
    },
    {
      "cell_type": "code",
      "source": [
        "D = -2\n",
        "C = 3\n",
        "A = 5\n",
        "A * B \n"
      ],
      "metadata": {
        "colab": {
          "base_uri": "https://localhost:8080/",
          "height": 130
        },
        "id": "EVMfGvYM5obJ",
        "outputId": "53836afe-bdfe-4d43-da6f-3d2bfe7a8c37"
      },
      "execution_count": 47,
      "outputs": [
        {
          "output_type": "error",
          "ename": "SyntaxError",
          "evalue": "ignored",
          "traceback": [
            "\u001b[0;36m  File \u001b[0;32m\"<ipython-input-47-aeba72876f63>\"\u001b[0;36m, line \u001b[0;32m4\u001b[0m\n\u001b[0;31m    D * C == 5 O C * A > 9\u001b[0m\n\u001b[0m               ^\u001b[0m\n\u001b[0;31mSyntaxError\u001b[0m\u001b[0;31m:\u001b[0m invalid syntax\n"
          ]
        }
      ]
    },
    {
      "cell_type": "code",
      "source": [],
      "metadata": {
        "id": "Ksvs7bQN4y1S"
      },
      "execution_count": null,
      "outputs": []
    },
    {
      "cell_type": "code",
      "execution_count": 29,
      "metadata": {
        "colab": {
          "base_uri": "https://localhost:8080/"
        },
        "id": "FaL897QjrRh8",
        "outputId": "5f58014a-cc24-4cac-80e1-e903303a6c4a"
      },
      "outputs": [
        {
          "output_type": "stream",
          "name": "stdout",
          "text": [
            "True\n",
            "True\n"
          ]
        }
      ],
      "source": [
        "\n",
        "A = 5\n",
        "B = 2 \n",
        "C = 3 \n",
        "D = -2\n",
        "A > B\n",
        "print(A > B)\n",
        "B <= C\n",
        "print(B <= C)\n",
        "\n",
        "\n",
        "\n",
        "\n",
        "\n",
        "\n"
      ]
    },
    {
      "cell_type": "markdown",
      "source": [],
      "metadata": {
        "id": "PKVBObMivyTO"
      }
    }
  ]
}
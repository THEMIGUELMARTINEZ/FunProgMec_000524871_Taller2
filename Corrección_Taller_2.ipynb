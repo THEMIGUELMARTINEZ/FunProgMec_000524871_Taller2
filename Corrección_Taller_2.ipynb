{
  "nbformat": 4,
  "nbformat_minor": 0,
  "metadata": {
    "colab": {
      "provenance": [],
      "authorship_tag": "ABX9TyMmaZO8fDfBLMsaLtIHQcmf",
      "include_colab_link": true
    },
    "kernelspec": {
      "name": "python3",
      "display_name": "Python 3"
    },
    "language_info": {
      "name": "python"
    }
  },
  "cells": [
    {
      "cell_type": "markdown",
      "metadata": {
        "id": "view-in-github",
        "colab_type": "text"
      },
      "source": [
        "<a href=\"https://colab.research.google.com/github/THEMIGUELMARTINEZ/FunProgMec_000524871_Taller2/blob/main/Correcci%C3%B3n_Taller_2.ipynb\" target=\"_parent\"><img src=\"https://colab.research.google.com/assets/colab-badge.svg\" alt=\"Open In Colab\"/></a>"
      ]
    },
    {
      "cell_type": "markdown",
      "source": [
        "Taller 2 \n",
        "\n",
        "*   Miguel Martinez Lara\n",
        "*   email: miguels.martinez@upb.edu.com\n",
        "\n"
      ],
      "metadata": {
        "id": "2xVK0JBf62SD"
      }
    },
    {
      "cell_type": "markdown",
      "source": [
        "### PROBLEMA 1: Como lo habia hecho"
      ],
      "metadata": {
        "id": "Lgrjd_1Y7oSh"
      }
    },
    {
      "cell_type": "code",
      "source": [
        "# posicion de la particula en un tiempo: \n",
        "t_1 = 0\n",
        "# posicion de la particula en un tiempo:\n",
        "t_2 = 5 \n",
        "x_0 = 3\n",
        "v_0 = 5 \n",
        "a = 6\n",
        "c = 1/2\n",
        "x_1 = v_0 + v_0*t_1 + c*a*t_1**2\n",
        "x_2 = v_0 + v_0*t_2 + c*a*t_2**2\n",
        "print(x_1)\n",
        "print(x_2)"
      ],
      "metadata": {
        "colab": {
          "base_uri": "https://localhost:8080/"
        },
        "id": "6ot-cjx9MK5W",
        "outputId": "aa1cb5ea-7c06-4c68-9f18-16c6ebcd82f5"
      },
      "execution_count": 16,
      "outputs": [
        {
          "output_type": "stream",
          "name": "stdout",
          "text": [
            "5.0\n",
            "105.0\n"
          ]
        }
      ]
    },
    {
      "cell_type": "markdown",
      "source": [
        "### SOLUCIÓN: Corregida"
      ],
      "metadata": {
        "id": "I0OMXpl2MOYb"
      }
    },
    {
      "cell_type": "code",
      "source": [
        "# Variables del Problema\n",
        "x_0 = 3\n",
        "v_0 = 5\n",
        "a = 6\n",
        "c = 1/2\n",
        "\n",
        "# los instantes de tiempo indicados:\n",
        "t_1 = 0\n",
        "t_2 = 5\n",
        "\n",
        "# Se utilizan las variables definidas:\n",
        "x_1 = x_0 + v_0 * t_1 + (c) * a * t_1 ** 2 \n",
        "x_2 = x_0 + v_0 * t_2 + (c) * a * t_2 ** 2\n",
        "\n",
        "print(x_1)\n",
        "print(x_2)"
      ],
      "metadata": {
        "colab": {
          "base_uri": "https://localhost:8080/"
        },
        "id": "gspVETge70Hm",
        "outputId": "0365f89e-2cd9-41dc-8aad-afd64cbc869b"
      },
      "execution_count": 12,
      "outputs": [
        {
          "output_type": "stream",
          "name": "stdout",
          "text": [
            "3.0\n",
            "103.0\n"
          ]
        }
      ]
    },
    {
      "cell_type": "markdown",
      "source": [
        "### PROBLEMA 2: No lo realicé\n",
        "\n",
        "### Solución: "
      ],
      "metadata": {
        "id": "hG2kjbanHyt9"
      }
    },
    {
      "cell_type": "code",
      "source": [
        "# Se crean las coordenadas de los puntos\n",
        "\n",
        "# Punto 1 para d1:\n",
        "x_11 = 2\n",
        "y_11 = 3\n",
        "# Punto 2 para d1:\n",
        "x_12 = -5\n",
        "y_12 = 4\n",
        "\n",
        "# Punto 1 para d2:\n",
        "x_21 = 0\n",
        "y_21 = -2\n",
        "# Punto 2 para d2:\n",
        "x_22 = 6\n",
        "y_22 = 1\n",
        "\n",
        "# Se escriben las ecuaciones para el cálculo de la distancia y se utilizan las variables de los puntos definidos:\n",
        "d_1 = ((x_12 - x_11) ** 2 + (y_12 - y_11) ** 2) ** 0.5\n",
        "d_2 = ((x_22 - x_21) ** 2 + (y_22 - y_21) ** 2) ** 0.5\n",
        "\n",
        "print(d_1)\n",
        "print(d_2)"
      ],
      "metadata": {
        "colab": {
          "base_uri": "https://localhost:8080/"
        },
        "id": "k23JoZHVIjZF",
        "outputId": "c59793e9-527d-4264-bfed-2bd6c52bf8b2"
      },
      "execution_count": 14,
      "outputs": [
        {
          "output_type": "stream",
          "name": "stdout",
          "text": [
            "7.0710678118654755\n",
            "6.708203932499369\n"
          ]
        }
      ]
    },
    {
      "cell_type": "markdown",
      "source": [
        "### PROBLEMA 3: Como lo habia hecho"
      ],
      "metadata": {
        "id": "Z6aats5xKFMS"
      }
    },
    {
      "cell_type": "code",
      "source": [
        "A = 5\n",
        "B = 2 \n",
        "C = 3 \n",
        "D = -2\n",
        "A > B\n",
        "print(A > B)\n",
        "B <= C\n",
        "print(B <= C)"
      ],
      "metadata": {
        "colab": {
          "base_uri": "https://localhost:8080/"
        },
        "id": "plmBvYrXNroR",
        "outputId": "88756eaf-ddf3-4f7b-cf17-404e145f0a68"
      },
      "execution_count": 17,
      "outputs": [
        {
          "output_type": "stream",
          "name": "stdout",
          "text": [
            "True\n",
            "True\n"
          ]
        }
      ]
    },
    {
      "cell_type": "code",
      "source": [
        "D = -2\n",
        "C = 3 \n",
        "A = 5 \n",
        "B = 2\n",
        "D - C >= - A * B\n",
        "print( D - C >= - A * B)"
      ],
      "metadata": {
        "colab": {
          "base_uri": "https://localhost:8080/"
        },
        "id": "gT39WJQrN2wh",
        "outputId": "86d08812-62f9-447c-8fa8-58fba58226a1"
      },
      "execution_count": 18,
      "outputs": [
        {
          "output_type": "stream",
          "name": "stdout",
          "text": [
            "True\n"
          ]
        }
      ]
    },
    {
      "cell_type": "code",
      "source": [
        "C = 3 \n",
        "B = 2 \n",
        "C != B\n",
        "print(C != B)"
      ],
      "metadata": {
        "colab": {
          "base_uri": "https://localhost:8080/"
        },
        "id": "IF55wZTUN8_e",
        "outputId": "55a29123-f00c-4ff9-b189-3cce022f6141"
      },
      "execution_count": 19,
      "outputs": [
        {
          "output_type": "stream",
          "name": "stdout",
          "text": [
            "True\n"
          ]
        }
      ]
    },
    {
      "cell_type": "markdown",
      "source": [
        "### SOLUCION: Corregida"
      ],
      "metadata": {
        "id": "cpCzhAuIOJ95"
      }
    },
    {
      "cell_type": "code",
      "source": [
        "# Se crean las variables a utilizar y se les asignan los valores indicados en el ejercicio\n",
        "A = 5\n",
        "B = 2\n",
        "C = 3\n",
        "D = -2\n",
        "\n",
        "# Se imprime directamente cada una de las operaciones lógicas solicitadas\n",
        "print(A > B)\n",
        "print(B <= C)\n",
        "print((A == B) and (B > C))\n",
        "print((A < C) or (B < C))\n",
        "print(C != B)\n",
        "print(A + D < C)\n",
        "print(D - C >= -A * B)\n",
        "print((D * C == 5) or (C * A > 9))\n",
        "print(A * B + C > - D * 10)\n",
        "print(4 * B == C * 3)"
      ],
      "metadata": {
        "colab": {
          "base_uri": "https://localhost:8080/"
        },
        "id": "VYb3EgMPKT3m",
        "outputId": "a6c9128e-ae1d-41eb-94ea-3aceb21b7d4d"
      },
      "execution_count": 15,
      "outputs": [
        {
          "output_type": "stream",
          "name": "stdout",
          "text": [
            "True\n",
            "True\n",
            "False\n",
            "True\n",
            "True\n",
            "False\n",
            "True\n",
            "True\n",
            "False\n",
            "False\n"
          ]
        }
      ]
    }
  ]
}